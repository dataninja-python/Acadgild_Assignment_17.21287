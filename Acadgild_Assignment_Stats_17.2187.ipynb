{
 "cells": [
  {
   "cell_type": "markdown",
   "metadata": {},
   "source": [
    "## Problem Statement:\n",
    "\n",
    "A die marked A to E is rolled 50 times. Find the probability of getting a \"D\" exactly 5 times."
   ]
  },
  {
   "cell_type": "markdown",
   "metadata": {},
   "source": [
    "**MASTER EQUATION:**\n",
    "$P(X) = \\frac{n!}{x!(n - x)!} p^x{(1-p)^{n - x}} $\n",
    "\n",
    "$ mini-equation(a) = \\frac{n!}{x!(n - x)!}$\n",
    "\n",
    "$ mini-equation(b) = p^x$\n",
    "\n",
    "$ mini-equation(c) = {(1-p)^{n - x}}$\n",
    "\n",
    "n = number of trials; x = desired successful trials; p = probability of success on a specific trial\n",
    "\n",
    "additional sources: http://onlinestatbook.com/2/probability/binomial.html; https://www.varsitytutors.com/hotmath/hotmath_help/topics/binomial-probability; http://www.stat.ucla.edu/~magtira/XL10/chapter6_p2.pdf"
   ]
  },
  {
   "cell_type": "code",
   "execution_count": 1,
   "metadata": {},
   "outputs": [],
   "source": [
    "# import factorial function\n",
    "from math import factorial as m_fact"
   ]
  },
  {
   "cell_type": "code",
   "execution_count": 2,
   "metadata": {},
   "outputs": [],
   "source": [
    "def coefficient(trials, target):\n",
    "    \"\"\"Returns the coefficient portion of the bi-nomial proability equation\"\"\"\n",
    "    return (m_fact(trials))/((m_fact(target))*(m_fact(trials - target)))"
   ]
  },
  {
   "cell_type": "code",
   "execution_count": 3,
   "metadata": {},
   "outputs": [],
   "source": [
    "n = 50\n",
    "x = 5\n",
    "desired_side = [\"D\"]\n",
    "die_sides = [\"A\", \"B\", \"C\", \"D\", \"E\"]\n",
    "prob_of_1_trial = (len(desired_side)) / (len([\"A\", \"B\", \"C\", \"D\", \"E\"]))\n",
    "prob_of_failure_1_trial = 1 - prob_of_1_trial\n",
    "failure_rate = n - x"
   ]
  },
  {
   "cell_type": "code",
   "execution_count": 4,
   "metadata": {},
   "outputs": [],
   "source": [
    "probability = (coefficient(n, x)) * (prob_of_1_trial**x)\\\n",
    "*(prob_of_failure_1_trial**failure_rate)"
   ]
  },
  {
   "cell_type": "code",
   "execution_count": 6,
   "metadata": {},
   "outputs": [
    {
     "name": "stdout",
     "output_type": "stream",
     "text": [
      "Probability of rolling \"D\" exactly 5 times is 2.953120%.\n"
     ]
    }
   ],
   "source": [
    "print('Probability of rolling \"D\" exactly 5 times is {0:,.6f}%.'.format(probability*100))"
   ]
  }
 ],
 "metadata": {
  "kernelspec": {
   "display_name": "Python 3",
   "language": "python",
   "name": "python3"
  },
  "language_info": {
   "codemirror_mode": {
    "name": "ipython",
    "version": 3
   },
   "file_extension": ".py",
   "mimetype": "text/x-python",
   "name": "python",
   "nbconvert_exporter": "python",
   "pygments_lexer": "ipython3",
   "version": "3.6.6"
  }
 },
 "nbformat": 4,
 "nbformat_minor": 2
}
